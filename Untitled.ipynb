{
 "cells": [
  {
   "cell_type": "code",
   "execution_count": 1,
   "metadata": {},
   "outputs": [],
   "source": [
    "import statsmodels.api as sm"
   ]
  },
  {
   "cell_type": "code",
   "execution_count": 16,
   "metadata": {},
   "outputs": [
    {
     "name": "stdout",
     "output_type": "stream",
     "text": [
      "Available kernels:\r\n",
      "  python3    /Users/Dom/Library/Jupyter/kernels/python3\r\n"
     ]
    }
   ],
   "source": [
    "!jupyter kernelspec list"
   ]
  },
  {
   "cell_type": "code",
   "execution_count": 14,
   "metadata": {},
   "outputs": [
    {
     "name": "stdout",
     "output_type": "stream",
     "text": [
      "Package             Version\r\n",
      "------------------- ---------\r\n",
      "appnope             0.1.0\r\n",
      "argon2-cffi         20.1.0\r\n",
      "async-generator     1.10\r\n",
      "attrs               20.3.0\r\n",
      "backcall            0.2.0\r\n",
      "bleach              3.2.1\r\n",
      "certifi             2020.11.8\r\n",
      "cffi                1.14.4\r\n",
      "chardet             3.0.4\r\n",
      "decorator           4.4.2\r\n",
      "defusedxml          0.6.0\r\n",
      "entrypoints         0.3\r\n",
      "idna                2.10\r\n",
      "ipykernel           5.3.4\r\n",
      "ipython             7.19.0\r\n",
      "ipython-genutils    0.2.0\r\n",
      "jedi                0.17.2\r\n",
      "Jinja2              2.11.2\r\n",
      "json5               0.9.5\r\n",
      "jsonschema          3.2.0\r\n",
      "jupyter-client      6.1.7\r\n",
      "jupyter-core        4.7.0\r\n",
      "jupyterlab          2.2.9\r\n",
      "jupyterlab-pygments 0.1.2\r\n",
      "jupyterlab-server   1.2.0\r\n",
      "MarkupSafe          1.1.1\r\n",
      "mistune             0.8.4\r\n",
      "nbclient            0.5.1\r\n",
      "nbconvert           6.0.7\r\n",
      "nbformat            5.0.8\r\n",
      "nest-asyncio        1.4.3\r\n",
      "notebook            6.1.5\r\n",
      "numpy               1.19.4\r\n",
      "packaging           20.4\r\n",
      "pandas              1.1.4\r\n",
      "pandocfilters       1.4.3\r\n",
      "parso               0.7.1\r\n",
      "patsy               0.5.1\r\n",
      "pexpect             4.8.0\r\n",
      "pickleshare         0.7.5\r\n",
      "pip                 20.2.4\r\n",
      "prometheus-client   0.9.0\r\n",
      "prompt-toolkit      3.0.8\r\n",
      "ptyprocess          0.6.0\r\n",
      "pycparser           2.20\r\n",
      "Pygments            2.7.2\r\n",
      "pyparsing           2.4.7\r\n",
      "pyrsistent          0.17.3\r\n",
      "python-dateutil     2.8.1\r\n",
      "pytz                2020.4\r\n",
      "pyzmq               20.0.0\r\n",
      "requests            2.25.0\r\n",
      "scipy               1.5.4\r\n",
      "Send2Trash          1.5.0\r\n",
      "setuptools          50.3.2\r\n",
      "six                 1.15.0\r\n",
      "statsmodels         0.12.0\r\n",
      "terminado           0.9.1\r\n",
      "testpath            0.4.4\r\n",
      "tornado             6.1\r\n",
      "traitlets           5.0.5\r\n",
      "urllib3             1.26.2\r\n",
      "wcwidth             0.2.5\r\n",
      "webencodings        0.5.1\r\n",
      "wheel               0.35.1\r\n"
     ]
    }
   ],
   "source": [
    "!pip list"
   ]
  },
  {
   "cell_type": "code",
   "execution_count": null,
   "metadata": {},
   "outputs": [],
   "source": []
  }
 ],
 "metadata": {
  "kernelspec": {
   "display_name": "Python 3",
   "language": "python",
   "name": "python3"
  },
  "language_info": {
   "codemirror_mode": {
    "name": "ipython",
    "version": 3
   },
   "file_extension": ".py",
   "mimetype": "text/x-python",
   "name": "python",
   "nbconvert_exporter": "python",
   "pygments_lexer": "ipython3",
   "version": "3.9.0"
  }
 },
 "nbformat": 4,
 "nbformat_minor": 4
}
